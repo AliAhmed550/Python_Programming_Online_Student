{
 "cells": [
  {
   "cell_type": "code",
   "execution_count": 2,
   "metadata": {},
   "outputs": [
    {
     "name": "stdout",
     "output_type": "stream",
     "text": [
      "***Your Marksheet***\n",
      "Enter your marks of English out of 100 = 68\n",
      "Enter your marks of Urdu out of 100 = 66\n",
      "Enter your marks of Islamiat out of 100 = 90\n",
      "Enter your marks of Chemistry out of 100 = 60\n",
      "Enter your marks of Physics out of 100 = 52\n",
      "Enter your marks of Maths out of 100 = 85\n",
      "Your Total Marks are 421\n",
      "Your Percentage is 70.16666666666667\n",
      "Congratulations You have secured Grade B\n"
     ]
    }
   ],
   "source": [
    "#Question 1\n",
    "\n",
    "\n",
    "print(\"***Your Marksheet***\")\n",
    "Subject_1 = int(input(\"Enter your marks of English out of 100 = \"))\n",
    "Subject_2 = int(input(\"Enter your marks of Urdu out of 100 = \"))\n",
    "Subject_3 = int(input(\"Enter your marks of Islamiat out of 100 = \"))\n",
    "Subject_4 = int(input(\"Enter your marks of Chemistry out of 100 = \"))\n",
    "Subject_5 = int(input(\"Enter your marks of Physics out of 100 = \"))\n",
    "Subject_6 = int(input(\"Enter your marks of Maths out of 100 = \"))\n",
    "Total_marks = Subject_1+Subject_2+Subject_3+Subject_4+Subject_5+Subject_6\n",
    "Percentage = (Total_marks/600)*100\n",
    "print(\"Your Total Marks are \" + str(Total_marks))\n",
    "print(\"Your Percentage is \" + str(Percentage))\n",
    "if Subject_1>33 and Subject_2>33 and Subject_3>33 and Subject_4>33 and Subject_5>33 and Subject_6>33:\n",
    "    if Percentage >= 90 and Percentage <=100:\n",
    "     print(\"Congratulations! You have secured Grade A-ONE\")\n",
    "    elif Percentage <90 and Percentage >=80:\n",
    "     print(\"Congratulations! You have secured Grade A\")\n",
    "    elif Percentage <80 and Percentage >=70:\n",
    "     print(\"Congratulations You have secured Grade B\")\n",
    "    elif Percentage <70 and Percentage >=60:\n",
    "     print(\"Congratulations You have secured Grade C\")\n",
    "    elif Percentage <60 and Percentage >=50:\n",
    "     print(\"Congratulations You have secured Grade D\")\n",
    "    elif Percentage <50 and Percentage >=40:\n",
    "     print(\"Congratulations You have secured Grade E\")\n",
    "    elif Percentage <40 and Percentage >=33:\n",
    "     print(\"Congratulations You have secured Grade F\")\n",
    "    else:\n",
    "         print(\"failed in examination\")"
   ]
  },
  {
   "cell_type": "code",
   "execution_count": 3,
   "metadata": {},
   "outputs": [
    {
     "name": "stdout",
     "output_type": "stream",
     "text": [
      "Enter a number = 9\n",
      "Entered number is ODD\n"
     ]
    }
   ],
   "source": [
    "#Question 2\n",
    "\n",
    "number = int(input(\"Enter a number = \"))\n",
    "check = number%2\n",
    "if check == 1:\n",
    "    print(\"Entered number is ODD\")\n",
    "else:\n",
    "    print(\"Entered number is EVEN\")"
   ]
  },
  {
   "cell_type": "code",
   "execution_count": 5,
   "metadata": {},
   "outputs": [
    {
     "name": "stdout",
     "output_type": "stream",
     "text": [
      "7\n"
     ]
    }
   ],
   "source": [
    "#Question 3\n",
    "\n",
    "list1 = [1,2,3,4,5,\"length\",\"list\",]\n",
    "print(len(list1))"
   ]
  },
  {
   "cell_type": "code",
   "execution_count": 6,
   "metadata": {},
   "outputs": [
    {
     "name": "stdout",
     "output_type": "stream",
     "text": [
      "171\n"
     ]
    }
   ],
   "source": [
    "#Question 4\n",
    "\n",
    "list1 = [4,2,5,9,8,12,10,88,33]\n",
    "print(sum(list1))"
   ]
  },
  {
   "cell_type": "code",
   "execution_count": 10,
   "metadata": {},
   "outputs": [
    {
     "name": "stdout",
     "output_type": "stream",
     "text": [
      "88\n"
     ]
    }
   ],
   "source": [
    "#Question 5\n",
    "\n",
    "list = [4,2,5,9,8,12,10,88,33]\n",
    "print(max(list))"
   ]
  },
  {
   "cell_type": "code",
   "execution_count": 11,
   "metadata": {},
   "outputs": [
    {
     "name": "stdout",
     "output_type": "stream",
     "text": [
      "[1, 1, 2, 3]\n"
     ]
    }
   ],
   "source": [
    "#Question 6\n",
    "\n",
    "a = [1, 1, 2, 3, 5, 8, 13, 21, 34, 55, 89]\n",
    "Min = [item for item in a if item < 5]\n",
    "print(Min)"
   ]
  },
  {
   "cell_type": "code",
   "execution_count": null,
   "metadata": {},
   "outputs": [],
   "source": []
  }
 ],
 "metadata": {
  "kernelspec": {
   "display_name": "Python 3",
   "language": "python",
   "name": "python3"
  },
  "language_info": {
   "codemirror_mode": {
    "name": "ipython",
    "version": 3
   },
   "file_extension": ".py",
   "mimetype": "text/x-python",
   "name": "python",
   "nbconvert_exporter": "python",
   "pygments_lexer": "ipython3",
   "version": "3.7.4"
  }
 },
 "nbformat": 4,
 "nbformat_minor": 2
}
